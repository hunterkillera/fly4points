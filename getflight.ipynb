{
 "cells": [
  {
   "cell_type": "code",
   "execution_count": 146,
   "metadata": {},
   "outputs": [],
   "source": [
    "#loading libraries\n",
    "import requests\n",
    "from bs4 import BeautifulSoup\n",
    "import time"
   ]
  },
  {
   "cell_type": "code",
   "execution_count": 147,
   "metadata": {},
   "outputs": [
    {
     "name": "stdout",
     "output_type": "stream",
     "text": [
      "[]\n"
     ]
    }
   ],
   "source": [
    "#crawl data from https://www.un.org/en/about-us/member-states\n",
    "url = \"https://www.un.org/en/about-us/member-states\"\n",
    "page = requests.get(url)\n",
    "soup = BeautifulSoup(page.content, 'html.parser')\n",
    "\n",
    "#find all the countries\n",
    "countries = soup.find_all('div', class_='col-sm-4 col-md-3')\n",
    "\n",
    "print(countries)"
   ]
  },
  {
   "cell_type": "code",
   "execution_count": 148,
   "metadata": {},
   "outputs": [],
   "source": [
    "#open the text file and read the country names\n",
    "with open('country_names_origin.txt', 'r') as f:\n",
    "    country_names = f.readlines()\n",
    "\n",
    "#remove the \\n from the country names\n",
    "country_names = [country_name.strip() for country_name in country_names]\n",
    "#replace bosnia & herzegovina to Bosnia-Hercegovina\n",
    "country_names = [country_name.replace('bosnia & herzegovina', 'Bosnia-Hercegovina') for country_name in country_names]\n",
    "#remove cabo verde\n",
    "country_names = [country_name for country_name in country_names if not country_name.startswith('cabo verde')]\n",
    "#replace côte d'ivoire Cote d'Ivoire\n",
    "country_names = [country_name.replace(\"côte d'ivoire\", \"Cote d'Ivoire\") for country_name in country_names]\n",
    "#replace czechia to Czech Republic\n",
    "country_names = [country_name.replace('czechia', 'Czech Republic') for country_name in country_names]\n",
    "#delete democratic people's korea\n",
    "country_names = [country_name for country_name in country_names if not country_name.startswith('democratic people')]\n",
    "#delete democratic the congo\n",
    "country_names = [country_name for country_name in country_names if not country_name.startswith('democratic the congo')]\n",
    "#delete country start with saint\n",
    "country_names = [country_name for country_name in country_names if not country_name.startswith('saint')]\n",
    "#delete yemen  \n",
    "country_names = [country_name for country_name in country_names if not country_name.startswith('yemen')]\n",
    "#replaceunited arab emirates to United Arab Emirates.\n",
    "country_names = [country_name.replace('united arab emirates', 'United Arab Emirates.') for country_name in country_names]\n",
    "#replace korea to Korea, Dem. P. R.\n",
    "country_names = [country_name.replace('korea', 'Korea, Dem. P. R.') for country_name in country_names]\n",
    "#replace trinidad & tobago to Trinidad and Tobago\n",
    "country_names = [country_name.replace('trinidad & tobago', 'Trinidad and Tobago') for country_name in country_names]\n",
    "#delete syrian arab republic\n",
    "country_names = [country_name for country_name in country_names if not country_name.startswith('syrian arab republic')]\n",
    "#delete serbia\n",
    "country_names = [country_name for country_name in country_names if not country_name.startswith('serbia')]\n",
    "#delete oman\n",
    "country_names = [country_name for country_name in country_names if not country_name.startswith('oman')]\n",
    "#delete north macedonia\n",
    "country_names = [country_name for country_name in country_names if not country_name.startswith('north macedonia')]\n",
    "#replace papua new guinea to Papua-New Guinea\n",
    "country_names = [country_name.replace('papua new guinea', 'Papua-New Guinea') for country_name in country_names]\n",
    "#replace lao people’s democratic republic to Laos\n",
    "country_names = [country_name.replace('lao people’s democratic republic', 'Laos') for country_name in country_names]\n",
    "#delete ireland\n",
    "country_names = [country_name for country_name in country_names if not country_name.startswith('ireland')]\n",
    "#delete eswatini\n",
    "country_names = [country_name for country_name in country_names if not country_name.startswith('eswatini')]\n",
    "#delete dominican republic\n",
    "country_names = [country_name for country_name in country_names if not country_name.startswith('dominican republic')]\n",
    "#delete montenegro\n",
    "country_names = [country_name for country_name in country_names if not country_name.startswith('montenegro')]\n",
    "\n",
    "#country_names = [country_name for country_name in country_names if not country_name.startswith('guinea')]\n",
    "#country_names = [country_name for country_name in country_names if not country_name.startswith('niger')]\n",
    "\n",
    "\n",
    "\n",
    "\n",
    "#save country_names to a text file\n",
    "with open('country_names.txt', 'w') as f:\n",
    "    for country_name in country_names:\n",
    "        f.write(\"%s\\n\" % country_name)\n"
   ]
  },
  {
   "cell_type": "code",
   "execution_count": 149,
   "metadata": {},
   "outputs": [
    {
     "name": "stdout",
     "output_type": "stream",
     "text": [
      "['austria', 'azerbaijan', 'bahamas', 'bahrain', 'bangladesh', 'barbados', 'belarus', 'belgium', 'belize', 'benin', 'bhutan', 'bolivia', 'Bosnia-Hercegovina', 'botswana', 'brazil', 'brunei darussalam', 'bulgaria', 'burkina faso', 'burundi', 'cambodia', 'cameroon', 'canada', 'central african republic', 'chad', 'chile', 'china', 'colombia', 'comoros', 'congo', 'costa rica', \"Cote d'Ivoire\", 'croatia', 'cuba', 'cyprus', 'Czech Republic', 'denmark', 'djibouti', 'dominica', 'ecuador', 'egypt', 'el salvador', 'equatorial guinea', 'eritrea', 'estonia', 'ethiopia', 'fiji', 'finland', 'france', 'gabon', 'gambia', 'georgia', 'germany', 'ghana', 'greece', 'grenada', 'guatemala', 'guinea', 'guinea-bissau', 'guyana', 'haiti', 'honduras', 'hungary', 'iceland', 'india', 'indonesia', 'iran', 'iraq', 'israel', 'italy', 'jamaica', 'japan', 'jordan', 'kazakhstan', 'kenya', 'kiribati', 'kuwait', 'kyrgyzstan', 'Laos', 'latvia', 'lebanon', 'lesotho', 'liberia', 'libya', 'liechtenstein', 'lithuania', 'luxembourg', 'madagascar', 'malawi', 'malaysia', 'maldives', 'mali', 'malta', 'marshall islands', 'mauritania', 'mauritius', 'mexico', 'micronesia', 'monaco', 'mongolia', 'morocco', 'mozambique', 'myanmar', 'namibia', 'nauru', 'nepal', 'netherlands', 'new zealand', 'nicaragua', 'norway', 'pakistan', 'palau', 'panama', 'Papua-New Guinea', 'paraguay', 'peru', 'philippines', 'poland', 'portugal', 'qatar', 'Korea, Dem. P. R.', 'moldova', 'romania', 'russia', 'rwanda', 'samoa', 'san marino', 'sao tome & principe', 'saudi arabia', 'senegal', 'seychelles', 'sierra leone', 'singapore', 'slovakia', 'slovenia', 'solomon islands', 'somalia', 'south africa', 'south sudan', 'spain', 'sri lanka', 'sudan', 'suriname', 'sweden', 'switzerland', 'tajikistan', 'thailand', 'timor-leste', 'togo', 'tonga', 'Trinidad and Tobago', 'tunisia', 'turkey', 'turkmenistan', 'tuvalu', 'uganda', 'ukraine', 'United Arab Emirates.', 'united kingdom', 'tanzania', 'united states of america', 'uruguay', 'uzbekistan', 'vanuatu', 'venezuela', 'vietnam', 'zambia', 'zimbabwe']\n"
     ]
    }
   ],
   "source": [
    "print(country_names)"
   ]
  },
  {
   "cell_type": "code",
   "execution_count": 150,
   "metadata": {},
   "outputs": [
    {
     "name": "stdout",
     "output_type": "stream",
     "text": [
      "167\n"
     ]
    }
   ],
   "source": [
    "print(len(country_names))"
   ]
  }
 ],
 "metadata": {
  "kernelspec": {
   "display_name": "ml135_env_sp23",
   "language": "python",
   "name": "python3"
  },
  "language_info": {
   "codemirror_mode": {
    "name": "ipython",
    "version": 3
   },
   "file_extension": ".py",
   "mimetype": "text/x-python",
   "name": "python",
   "nbconvert_exporter": "python",
   "pygments_lexer": "ipython3",
   "version": "3.10.9"
  }
 },
 "nbformat": 4,
 "nbformat_minor": 2
}
